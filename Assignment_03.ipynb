{
  "cells": [
    {
      "cell_type": "markdown",
      "metadata": {
        "id": "view-in-github",
        "colab_type": "text"
      },
      "source": [
        "<a href=\"https://colab.research.google.com/github/Hamzaaleem230/Python-Assigment-1to4/blob/main/Assignment_03.ipynb\" target=\"_parent\"><img src=\"https://colab.research.google.com/assets/colab-badge.svg\" alt=\"Open In Colab\"/></a>"
      ]
    },
    {
      "cell_type": "markdown",
      "source": [
        "**Assignment 03**"
      ],
      "metadata": {
        "id": "Z2uT3qilqHUh"
      }
    },
    {
      "cell_type": "markdown",
      "source": [
        "* **Basic List Operations**"
      ],
      "metadata": {
        "id": "mk-0OcNRp0rx"
      }
    },
    {
      "cell_type": "markdown",
      "source": [
        "1. Create a list of five numbers and append a new number to it. Print the updated list."
      ],
      "metadata": {
        "id": "EsG9hrsFqKKb"
      }
    },
    {
      "cell_type": "code",
      "source": [
        "numbers = [10, 20, 30, 40, 50]\n",
        "numbers.append(60)\n",
        "print(\"Updated List:\", numbers)"
      ],
      "metadata": {
        "id": "4oHK0KyPqRof",
        "outputId": "4f2a70f9-0505-426e-e81e-94c27c716064",
        "colab": {
          "base_uri": "https://localhost:8080/"
        }
      },
      "execution_count": null,
      "outputs": [
        {
          "output_type": "stream",
          "name": "stdout",
          "text": [
            "Updated List: [10, 20, 30, 40, 50, 60]\n"
          ]
        }
      ]
    },
    {
      "cell_type": "markdown",
      "source": [
        "2. Extend a list [1, 2, 3] with another list [4, 5, 6]. Print the result."
      ],
      "metadata": {
        "id": "ExF6TzdcqmuS"
      }
    },
    {
      "cell_type": "code",
      "source": [
        "list1 = [1, 2, 3]\n",
        "list1.extend([4, 5, 6])\n",
        "print(\"Extended List:\", list1)"
      ],
      "metadata": {
        "id": "K-abQmbAqsJh",
        "outputId": "bd73de75-b97b-432a-d5de-49d0c17add21",
        "colab": {
          "base_uri": "https://localhost:8080/"
        }
      },
      "execution_count": null,
      "outputs": [
        {
          "output_type": "stream",
          "name": "stdout",
          "text": [
            "Extended List: [1, 2, 3, 4, 5, 6]\n"
          ]
        }
      ]
    },
    {
      "cell_type": "markdown",
      "source": [
        "3. Insert the string \"Python\" at index 2 in the list [\"Java\", \"C++\", \"JavaScript\", \"Ruby\"]."
      ],
      "metadata": {
        "id": "5SCnBWemqxgO"
      }
    },
    {
      "cell_type": "code",
      "source": [
        "languages = [\"Java\", \"C++\", \"JavaScript\", \"Ruby\"]\n",
        "languages.insert(2, \"Python\")\n",
        "print(\"Modified Languages List:\", languages)"
      ],
      "metadata": {
        "id": "OVRLx6qkq8Am",
        "outputId": "ae23ef53-6279-400e-e088-54a36dbe7660",
        "colab": {
          "base_uri": "https://localhost:8080/"
        }
      },
      "execution_count": null,
      "outputs": [
        {
          "output_type": "stream",
          "name": "stdout",
          "text": [
            "Modified Languages List: ['Java', 'C++', 'Python', 'JavaScript', 'Ruby']\n"
          ]
        }
      ]
    },
    {
      "cell_type": "markdown",
      "source": [
        "4. Remove the first occurrence of the number 10 from the list [10, 20, 30, 10, 40]."
      ],
      "metadata": {
        "id": "_NalAlhlrA7R"
      }
    },
    {
      "cell_type": "code",
      "source": [
        "numList = [10, 20, 30, 10, 40]\n",
        "numList.remove(10)\n",
        "print(\"List after removing first occurrence of 10:\", numList)"
      ],
      "metadata": {
        "id": "d5c3Yt62rHXw",
        "outputId": "b3bdb0e6-09da-4637-9194-10f433e1da8b",
        "colab": {
          "base_uri": "https://localhost:8080/"
        }
      },
      "execution_count": null,
      "outputs": [
        {
          "output_type": "stream",
          "name": "stdout",
          "text": [
            "List after removing first occurrence of 10: [20, 30, 10, 40]\n"
          ]
        }
      ]
    },
    {
      "cell_type": "markdown",
      "source": [
        "5. Use the pop() method to remove the last element from [100, 200, 300, 400] and print the modified list."
      ],
      "metadata": {
        "id": "QMz06ZAPrscD"
      }
    },
    {
      "cell_type": "code",
      "source": [
        "numbers2 = [100, 200, 300, 400]\n",
        "numbers2.pop()\n",
        "print(\"List after popping last element:\", numbers2)"
      ],
      "metadata": {
        "id": "M1a4F-bnrVhW",
        "outputId": "be975dc5-7d05-48e6-f9a9-2199abac65b8",
        "colab": {
          "base_uri": "https://localhost:8080/"
        }
      },
      "execution_count": null,
      "outputs": [
        {
          "output_type": "stream",
          "name": "stdout",
          "text": [
            "List after popping last element: [100, 200, 300]\n"
          ]
        }
      ]
    },
    {
      "cell_type": "markdown",
      "source": [
        "* **Intermediate List Operations**"
      ],
      "metadata": {
        "id": "mfVdyM1WrwZG"
      }
    },
    {
      "cell_type": "markdown",
      "source": [
        "6. Count how many times the number 5 appears in the list [5, 10, 5, 20, 5, 30]."
      ],
      "metadata": {
        "id": "2_v5yldSr6ql"
      }
    },
    {
      "cell_type": "code",
      "source": [
        "countList = [5, 10, 5, 20, 5, 30]\n",
        "print(\"Count of 5:\", countList.count(5))"
      ],
      "metadata": {
        "id": "bHjwTAwhsC64",
        "outputId": "74a13e28-4ee9-4d28-acaf-69b1e76b4f7c",
        "colab": {
          "base_uri": "https://localhost:8080/"
        }
      },
      "execution_count": null,
      "outputs": [
        {
          "output_type": "stream",
          "name": "stdout",
          "text": [
            "Count of 5: 3\n"
          ]
        }
      ]
    },
    {
      "cell_type": "markdown",
      "source": [
        "7. Sort the list [9, 1, 8, 3, 5] in ascending and descending order."
      ],
      "metadata": {
        "id": "hs68XZQEsIuJ"
      }
    },
    {
      "cell_type": "code",
      "source": [
        "sortList = [9, 1, 8, 3, 5]\n",
        "sortListAscending = sorted(sortList)\n",
        "sortListDescending = sorted(sortList, reverse=True)\n",
        "print(\"Ascending Order:\", sortListAscending)\n",
        "print(\"Descending Order:\", sortListDescending)"
      ],
      "metadata": {
        "id": "xjuLpIHksQba",
        "outputId": "79df45b4-3d12-4745-f9fc-f5ebbc7ea7e1",
        "colab": {
          "base_uri": "https://localhost:8080/"
        }
      },
      "execution_count": null,
      "outputs": [
        {
          "output_type": "stream",
          "name": "stdout",
          "text": [
            "Ascending Order: [1, 3, 5, 8, 9]\n",
            "Descending Order: [9, 8, 5, 3, 1]\n"
          ]
        }
      ]
    },
    {
      "cell_type": "markdown",
      "source": [
        "8. Reverse the list [\"apple\", \"banana\", \"cherry\"] using the reverse() method."
      ],
      "metadata": {
        "id": "Wi9tPcVyslvV"
      }
    },
    {
      "cell_type": "code",
      "source": [
        "fruits = [\"apple\", \"banana\", \"cherry\"]\n",
        "fruits.reverse()\n",
        "print(\"Reversed List:\", fruits)"
      ],
      "metadata": {
        "id": "WbHJKsXbsq_O",
        "outputId": "cfab9aad-7cbe-4a03-f722-8bd5e0ce626e",
        "colab": {
          "base_uri": "https://localhost:8080/"
        }
      },
      "execution_count": null,
      "outputs": [
        {
          "output_type": "stream",
          "name": "stdout",
          "text": [
            "Reversed List: ['cherry', 'banana', 'apple']\n"
          ]
        }
      ]
    },
    {
      "cell_type": "markdown",
      "source": [
        "9. Create a copy of the list [1, 2, 3, 4, 5] and store it in another variable. Modify the copied list and print both lists."
      ],
      "metadata": {
        "id": "7nctyxQws0dS"
      }
    },
    {
      "cell_type": "code",
      "source": [
        "originalList = [1, 2, 3, 4, 5]\n",
        "copiedList = originalList.copy()\n",
        "copiedList.append(6)\n",
        "print(\"Original List:\", originalList)\n",
        "print(\"Copied and Modified List:\", copiedList)"
      ],
      "metadata": {
        "id": "g_0Gzr6Ws9an",
        "outputId": "584b1196-fb66-44e9-8abc-4f68973969f1",
        "colab": {
          "base_uri": "https://localhost:8080/"
        }
      },
      "execution_count": null,
      "outputs": [
        {
          "output_type": "stream",
          "name": "stdout",
          "text": [
            "Original List: [1, 2, 3, 4, 5]\n",
            "Copied and Modified List: [1, 2, 3, 4, 5, 6]\n"
          ]
        }
      ]
    },
    {
      "cell_type": "markdown",
      "source": [
        "10. Clear all elements from a list [\"hello\", \"world\", \"python\"] using the clear( ) method."
      ],
      "metadata": {
        "id": "u3dRo4zAtLPh"
      }
    },
    {
      "cell_type": "code",
      "source": [
        "words = [\"hello\", \"world\", \"python\"]\n",
        "words.clear()\n",
        "print(\"Cleared List:\", words)"
      ],
      "metadata": {
        "id": "h_rUPY6RtUT7",
        "outputId": "246cc49e-5568-41b0-c1c1-e238f313f99d",
        "colab": {
          "base_uri": "https://localhost:8080/"
        }
      },
      "execution_count": null,
      "outputs": [
        {
          "output_type": "stream",
          "name": "stdout",
          "text": [
            "Cleared List: []\n"
          ]
        }
      ]
    },
    {
      "cell_type": "markdown",
      "source": [
        "* **Tuple-Based Questions**"
      ],
      "metadata": {
        "id": "wVb2sswLtxsW"
      }
    },
    {
      "cell_type": "markdown",
      "source": [
        "11. Create a tuple with 5 different fruits and print the third fruit."
      ],
      "metadata": {
        "id": "RCldpH9ot3pl"
      }
    },
    {
      "cell_type": "code",
      "source": [
        "fruitsTuple = (\"apple\", \"banana\", \"cherry\", \"mango\", \"orange\")\n",
        "print(\"Third fruit:\", fruitsTuple[2])"
      ],
      "metadata": {
        "id": "pVUi-5vBuCBF",
        "outputId": "2b0f21e4-a543-44c1-af65-cfcce7091ea6",
        "colab": {
          "base_uri": "https://localhost:8080/"
        }
      },
      "execution_count": null,
      "outputs": [
        {
          "output_type": "stream",
          "name": "stdout",
          "text": [
            "Third fruit: cherry\n"
          ]
        }
      ]
    },
    {
      "cell_type": "markdown",
      "source": [
        "12. Convert the tuple (10, 20, 30, 40, 50) into a list, remove the number 30, and convert it back into a tuple."
      ],
      "metadata": {
        "id": "bOq-7aDeuI9D"
      }
    },
    {
      "cell_type": "code",
      "source": [
        "numbersTuple = (10, 20, 30, 40, 50)\n",
        "numbersList = list(numbersTuple)\n",
        "numbersList.remove(30)\n",
        "numbersTuple = tuple(numbersList)\n",
        "print(\"Modified Tuple:\", numbersTuple)"
      ],
      "metadata": {
        "id": "IyIPvdJGuNou",
        "outputId": "43880233-ba15-4ba0-db6b-464980fb5d98",
        "colab": {
          "base_uri": "https://localhost:8080/"
        }
      },
      "execution_count": null,
      "outputs": [
        {
          "output_type": "stream",
          "name": "stdout",
          "text": [
            "Modified Tuple: (10, 20, 40, 50)\n"
          ]
        }
      ]
    },
    {
      "cell_type": "markdown",
      "source": [
        "13. Try to append an element to the tuple (\"A\", \"B\", \"C\"). What happens? How can you modify a tuple indirectly?"
      ],
      "metadata": {
        "id": "WfbvYPI8uYkd"
      }
    },
    {
      "cell_type": "code",
      "source": [
        "tupleExample = (\"A\", \"B\", \"C\")\n",
        "\n",
        "tupleList = list(tupleExample)\n",
        "tupleList.append(\"D\")\n",
        "tupleExample = tuple(tupleList)\n",
        "print(\"Modified Tuple:\", tupleExample)"
      ],
      "metadata": {
        "id": "czBXAKkHuiat",
        "outputId": "e7083429-9b4d-417d-ea88-8f87a3b7ef88",
        "colab": {
          "base_uri": "https://localhost:8080/"
        }
      },
      "execution_count": null,
      "outputs": [
        {
          "output_type": "stream",
          "name": "stdout",
          "text": [
            "Modified Tuple: ('A', 'B', 'C', 'D')\n"
          ]
        }
      ]
    },
    {
      "cell_type": "markdown",
      "source": [
        "14. Unpack the tuple (100, 200, 300) into three separate variables and print them."
      ],
      "metadata": {
        "id": "B3thkW84u8VB"
      }
    },
    {
      "cell_type": "code",
      "source": [
        "tupleUnpack = (100, 200, 300)\n",
        "a, b, c = tupleUnpack\n",
        "print(\"Unpacked Values:\", a, b, c)"
      ],
      "metadata": {
        "id": "0A7hVTLMvBxB",
        "outputId": "ce3e02f5-5af1-4b00-e55f-c82b4888b4dd",
        "colab": {
          "base_uri": "https://localhost:8080/"
        }
      },
      "execution_count": null,
      "outputs": [
        {
          "output_type": "stream",
          "name": "stdout",
          "text": [
            "Unpacked Values: 100 200 300\n"
          ]
        }
      ]
    },
    {
      "cell_type": "markdown",
      "source": [
        "15.  Count the occurrences of 7 in the tuple (7, 1, 7, 3, 7, 5)."
      ],
      "metadata": {
        "id": "6n-hbmY0vEWf"
      }
    },
    {
      "cell_type": "code",
      "source": [
        "tupleCount = (7, 1, 7, 3, 7, 5)\n",
        "print(\"Occurrences of 7:\", tupleCount.count(7))"
      ],
      "metadata": {
        "id": "pSxFO-cHvOkj",
        "outputId": "0d2f24e2-f892-4375-c9f4-a73ca7527ab8",
        "colab": {
          "base_uri": "https://localhost:8080/"
        }
      },
      "execution_count": null,
      "outputs": [
        {
          "output_type": "stream",
          "name": "stdout",
          "text": [
            "Occurrences of 7: 3\n"
          ]
        }
      ]
    },
    {
      "cell_type": "markdown",
      "source": [
        "* **Advanced Problems**"
      ],
      "metadata": {
        "id": "RJCdcTlevSr2"
      }
    },
    {
      "cell_type": "markdown",
      "source": [
        "16. Write a function that takes a list and returns a new list with all even numbers removed."
      ],
      "metadata": {
        "id": "OnyIOJsWvYE3"
      }
    },
    {
      "cell_type": "code",
      "source": [
        "def removeEven(lst):\n",
        "    return [x for x in lst if x % 2 != 0]\n",
        "print(\"List without evens:\", removeEven([1, 2, 3, 4, 5, 6]))"
      ],
      "metadata": {
        "id": "ZpVjgSNnvjIC",
        "outputId": "08415258-718a-4ee7-e745-243b75a3bc3b",
        "colab": {
          "base_uri": "https://localhost:8080/"
        }
      },
      "execution_count": null,
      "outputs": [
        {
          "output_type": "stream",
          "name": "stdout",
          "text": [
            "List without evens: [1, 3, 5]\n"
          ]
        }
      ]
    },
    {
      "cell_type": "markdown",
      "source": [
        "17. Create a function that accepts a list and returns a new list with elements sorted in descending order without using sort()."
      ],
      "metadata": {
        "id": "sH2G6W1EvpW9"
      }
    },
    {
      "cell_type": "code",
      "source": [
        "def sortDesc(lst):\n",
        "    return sorted(lst, reverse=True)\n",
        "print(\"Descending Order:\", sortDesc([3, 1, 4, 1, 5, 9]))"
      ],
      "metadata": {
        "id": "mLW0Lwogvta0",
        "outputId": "16b79720-3bc1-4e8c-a145-79744a2079a5",
        "colab": {
          "base_uri": "https://localhost:8080/"
        }
      },
      "execution_count": null,
      "outputs": [
        {
          "output_type": "stream",
          "name": "stdout",
          "text": [
            "Descending Order: [9, 5, 4, 3, 1, 1]\n"
          ]
        }
      ]
    },
    {
      "cell_type": "markdown",
      "source": [
        "18.  Given a list of numbers, remove all duplicate elements and print the unique elements."
      ],
      "metadata": {
        "id": "KDu4kS18vzvG"
      }
    },
    {
      "cell_type": "code",
      "source": [
        "def removeDuplicates(lst):\n",
        "    return list(set(lst))\n",
        "print(\"Unique Elements:\", removeDuplicates([1, 2, 2, 3, 4, 4, 5]))"
      ],
      "metadata": {
        "id": "HAaAOdNqv3R4",
        "outputId": "49db5918-5e50-4304-9060-5879747348ed",
        "colab": {
          "base_uri": "https://localhost:8080/"
        }
      },
      "execution_count": null,
      "outputs": [
        {
          "output_type": "stream",
          "name": "stdout",
          "text": [
            "Unique Elements: [1, 2, 3, 4, 5]\n"
          ]
        }
      ]
    },
    {
      "cell_type": "markdown",
      "source": [
        "19. Convert a tuple of names into a list, remove duplicates, and convert it back to a tuple."
      ],
      "metadata": {
        "id": "EUme7rWov-Pq"
      }
    },
    {
      "cell_type": "code",
      "source": [
        "namesTuple = (\"Hamza\", \"Fahad\", \"Anas\", \"Ahmad\", \"Abdullah\")\n",
        "namesList = list(set(namesTuple))\n",
        "namesTuple = tuple(namesList)\n",
        "print(\"Modified Names Tuple:\", namesTuple)"
      ],
      "metadata": {
        "id": "ZBecOMiWwCRZ",
        "outputId": "72655829-0010-4503-8a5c-a8ee51451646",
        "colab": {
          "base_uri": "https://localhost:8080/"
        }
      },
      "execution_count": null,
      "outputs": [
        {
          "output_type": "stream",
          "name": "stdout",
          "text": [
            "Modified Names Tuple: ('Anas', 'Hamza', 'Abdullah', 'Ahmad', 'Fahad')\n"
          ]
        }
      ]
    },
    {
      "cell_type": "markdown",
      "source": [
        "20. Separate a list of mixed data types into integers, strings, and floats."
      ],
      "metadata": {
        "id": "MXTa_7dMwL1J"
      }
    },
    {
      "cell_type": "code",
      "source": [
        "def separateTypes(mixed_list):\n",
        "    ints = [x for x in mixed_list if isinstance(x, int)]\n",
        "    strs = [x for x in mixed_list if isinstance(x, str)]\n",
        "    floats = [x for x in mixed_list if isinstance(x, float)]\n",
        "    return ints, strs, floats\n",
        "\n",
        "mixedData = [1, \"hello\", 3.5, 2, \"world\", 4.2, 5, \"Python\"]\n",
        "ints, strs, floats = separateTypes(mixedData)\n",
        "print(\"Integers:\", ints)\n",
        "print(\"Strings:\", strs)\n",
        "print(\"Floats:\", floats)"
      ],
      "metadata": {
        "id": "eZoHyPHuwXEF",
        "outputId": "3b4a8bc4-cd53-4270-c567-3f64d6e0782e",
        "colab": {
          "base_uri": "https://localhost:8080/"
        }
      },
      "execution_count": null,
      "outputs": [
        {
          "output_type": "stream",
          "name": "stdout",
          "text": [
            "Integers: [1, 2, 5]\n",
            "Strings: ['hello', 'world', 'Python']\n",
            "Floats: [3.5, 4.2]\n"
          ]
        }
      ]
    }
  ],
  "metadata": {
    "colab": {
      "provenance": [],
      "include_colab_link": true
    },
    "kernelspec": {
      "display_name": "Python 3",
      "name": "python3"
    }
  },
  "nbformat": 4,
  "nbformat_minor": 0
}