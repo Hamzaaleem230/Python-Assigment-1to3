{
  "cells": [
    {
      "cell_type": "markdown",
      "metadata": {
        "id": "view-in-github",
        "colab_type": "text"
      },
      "source": [
        "<a href=\"https://colab.research.google.com/github/Hamzaaleem230/Python-Assigment-1to3/blob/main/Class_2.ipynb\" target=\"_parent\"><img src=\"https://colab.research.google.com/assets/colab-badge.svg\" alt=\"Open In Colab\"/></a>"
      ]
    },
    {
      "cell_type": "markdown",
      "source": [
        "\n",
        "\n",
        "1. Create a simple calculator\n",
        "\n"
      ],
      "metadata": {
        "id": "Izq772ZMqBdq"
      }
    },
    {
      "cell_type": "code",
      "source": [
        "num1 = float(input(\"Enter first number: \"))\n",
        "\n",
        "operator = input(\"Enter operator(+,-,*,/): \")\n",
        "\n",
        "num2 = float(input(\"Enter second number: \"))\n",
        "\n",
        "if operator == \"+\":\n",
        "    print(\"Result:\", num1 + num2)\n",
        "elif operator == \"-\":\n",
        "    print(\"Result:\", num1 - num2)\n",
        "elif operator == \"*\":\n",
        "    print(\"Result:\", num1 * num2)\n",
        "elif operator == \"/\":\n",
        "    print(\"Result:\", num1 / num2 if num2 != 0 else \"Error: Division by 0\")\n",
        "elif operator == \"%\":\n",
        "    print(\"Result:\", num1 % num2)\n",
        "else:\n",
        "    print(\"Invalid operator\")"
      ],
      "metadata": {
        "colab": {
          "base_uri": "https://localhost:8080/"
        },
        "id": "rmz78kbtm4tV",
        "outputId": "0e364bef-f853-4028-d3d8-84716fd25334"
      },
      "execution_count": 2,
      "outputs": [
        {
          "output_type": "stream",
          "name": "stdout",
          "text": [
            "Enter first number: 10\n",
            "Enter operator(+,-,*,/): *\n",
            "Enter second number: 2\n",
            "Result: 20.0\n"
          ]
        }
      ]
    },
    {
      "cell_type": "markdown",
      "source": [
        "2. Create a grading scale"
      ],
      "metadata": {
        "id": "UfDDu1rUqLyn"
      }
    },
    {
      "cell_type": "code",
      "source": [
        "percentage = float(input(\"Enter the percentage: \"))\n",
        "\n",
        "if percentage >= 80:\n",
        "  print(\"A+\")\n",
        "elif percentage <= 79:\n",
        "  print(\"Your Grade is A\")\n",
        "elif percentage <= 69:\n",
        "  print(\"Your Grade is B\")\n",
        "elif percentage <= 59:\n",
        "  print(\"Your Grade is C\")\n",
        "elif percentage <= 49:\n",
        "  print(\"Your Grade is D\")\n",
        "else :\n",
        "  print(\"Invalid\")"
      ],
      "metadata": {
        "colab": {
          "base_uri": "https://localhost:8080/"
        },
        "id": "pA_bewbNqRWn",
        "outputId": "85d5af29-73bf-4da7-a2d2-6e56c933b4e2"
      },
      "execution_count": 30,
      "outputs": [
        {
          "output_type": "stream",
          "name": "stdout",
          "text": [
            "Enter the percentage: 80\n",
            "A+\n"
          ]
        }
      ]
    }
  ],
  "metadata": {
    "colab": {
      "provenance": [],
      "include_colab_link": true
    },
    "kernelspec": {
      "display_name": "Python 3",
      "name": "python3"
    }
  },
  "nbformat": 4,
  "nbformat_minor": 0
}