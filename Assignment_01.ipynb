{
  "cells": [
    {
      "cell_type": "markdown",
      "metadata": {
        "id": "view-in-github",
        "colab_type": "text"
      },
      "source": [
        "<a href=\"https://colab.research.google.com/github/Hamzaaleem230/Python-Assigment-1to3/blob/main/Assignment_01.ipynb\" target=\"_parent\"><img src=\"https://colab.research.google.com/assets/colab-badge.svg\" alt=\"Open In Colab\"/></a>"
      ]
    },
    {
      "cell_type": "markdown",
      "source": [
        "\n",
        "**Assignment 01**\n",
        "\n"
      ],
      "metadata": {
        "id": "A9c079xnjkPE"
      }
    },
    {
      "cell_type": "markdown",
      "source": [
        "Part 1: String Literals"
      ],
      "metadata": {
        "id": "ayx6C1hscsPn"
      }
    },
    {
      "cell_type": "markdown",
      "source": [
        "1. Create three separate strings using different types of quotation marks:\n",
        "\n",
        "Single quotes ('example')\n",
        "Double quotes (\"example\")\n",
        "Triple quotes (\"\"\"example\"\"\")"
      ],
      "metadata": {
        "id": "SGSQWZJhh3z5"
      }
    },
    {
      "cell_type": "code",
      "source": [
        "greeting_message = 'Hello, I am Syed Hamza.'\n",
        "professional_intro = \"Blending design with technology, I create immersive user experiences as a frontend developer and graphic designer.\"\n",
        "inspiration_note = \"\"\"Guided by the wisdom of Sir Fahad Khan and Sir Hamza Alvi,\n",
        "mentored by two remarkable teachers, I strive to unlock the\n",
        "potential of education for positive change.\"\"\"\n",
        "\n",
        "print(greeting_message)\n",
        "print(professional_intro)\n",
        "print(inspiration_note)\n"
      ],
      "metadata": {
        "id": "QDGQ_uS3b8Ao",
        "outputId": "faaa4973-5d9d-4ad4-e242-e107ba048e87",
        "colab": {
          "base_uri": "https://localhost:8080/"
        }
      },
      "execution_count": null,
      "outputs": [
        {
          "output_type": "stream",
          "name": "stdout",
          "text": [
            "Hello, I am Syed Hamza.\n",
            "Blending design with technology, I create immersive user experiences as a frontend developer and graphic designer.\n",
            "Guided by the wisdom of Sir Fahad Khan and Sir Hamza Alvi, \n",
            "mentored by two remarkable teachers, I strive to unlock the\n",
            "potential of education for positive change.\n"
          ]
        }
      ]
    },
    {
      "cell_type": "markdown",
      "source": [
        "2. What are the benefits of using different types of quotation marks?"
      ],
      "metadata": {
        "id": "MQT_uahVeK72"
      }
    },
    {
      "cell_type": "markdown",
      "source": [
        "**Single Quotes**: Best for short and simple strings. If there are no apostrophes in the text, using single quotes keeps the code clean and readable.  \n",
        "\n",
        "**Double Quotes**: Useful when the string contains apostrophes (`'`), as they can be included without causing syntax errors. For example: `\"It's a wonderful day!\"`  \n",
        "\n",
        "**Triple Quotes**: Ideal for multi-line strings, as they preserve formatting, including line breaks and spaces. This makes them great for writing long texts like documentation, articles, or formatted messages."
      ],
      "metadata": {
        "id": "Q60HnNSod9jf"
      }
    },
    {
      "cell_type": "markdown",
      "source": [
        "3. Create a string that includes both single (') and double (\") quotes within it.\n",
        "For example: She said, \"I'm heading to the market.\""
      ],
      "metadata": {
        "id": "w5e2g6oUfKl3"
      }
    },
    {
      "cell_type": "code",
      "source": [
        "message = \"Don't forget, the annual family picnic is tomorrow!\"\n",
        "print(message)"
      ],
      "metadata": {
        "id": "n6O0as0GfQ8O",
        "outputId": "c95c714d-d8b1-4188-b717-ed3688cb19f4",
        "colab": {
          "base_uri": "https://localhost:8080/"
        }
      },
      "execution_count": null,
      "outputs": [
        {
          "output_type": "stream",
          "name": "stdout",
          "text": [
            "Don't forget, the annual family picnic is tomorrow!\n"
          ]
        }
      ]
    },
    {
      "cell_type": "markdown",
      "source": [
        "4. Write a multi-line string using triple quotes to describe the hobby you enjoy the most."
      ],
      "metadata": {
        "id": "0JHYDnstgQfJ"
      }
    },
    {
      "cell_type": "code",
      "source": [
        "coding_passion = \"\"\"I love diving into the world of code and building creative solutions.\n",
        "Every day, I dedicate 4 hours to programming, sharpening my skills, and exploring new concepts.\n",
        "From problem-solving to developing interactive projects, coding is more than just a hobby—\n",
        "it's a journey of continuous learning and innovation!\"\"\"\n",
        "print(coding_passion)"
      ],
      "metadata": {
        "id": "o-qDf3DhgzXS",
        "outputId": "37074a42-1d51-496d-82ec-2c0b1dc4f81e",
        "colab": {
          "base_uri": "https://localhost:8080/"
        }
      },
      "execution_count": null,
      "outputs": [
        {
          "output_type": "stream",
          "name": "stdout",
          "text": [
            "I love diving into the world of code and building creative solutions.  \n",
            "Every day, I dedicate 4 hours to programming, sharpening my skills, and exploring new concepts.  \n",
            "From problem-solving to developing interactive projects, coding is more than just a hobby—  \n",
            "it's a journey of continuous learning and innovation!\n"
          ]
        }
      ]
    },
    {
      "cell_type": "markdown",
      "source": [
        "Part 2: Methods of String"
      ],
      "metadata": {
        "id": "6R-m43myhlqc"
      }
    },
    {
      "cell_type": "markdown",
      "source": [
        "1. Create a variable called full_name that stores your first and last name. Then, write code to:\n",
        "\n",
        "* Display the name in all capital letters\n",
        "* Show the name in all small letters\n",
        "* Format the name so that the first letter of each word is capitalized"
      ],
      "metadata": {
        "id": "EdGbsSUPiPQi"
      }
    },
    {
      "cell_type": "code",
      "source": [
        "full_name = \"Syed Hamza\"\n",
        "\n",
        "print(full_name.upper())\n",
        "print(full_name.lower())\n",
        "print(full_name.title())"
      ],
      "metadata": {
        "id": "UjO9FqW7i8BL",
        "outputId": "25447610-c0a5-4a1c-945b-4032e2a613b1",
        "colab": {
          "base_uri": "https://localhost:8080/"
        }
      },
      "execution_count": null,
      "outputs": [
        {
          "output_type": "stream",
          "name": "stdout",
          "text": [
            "SYED HAMZA\n",
            "syed hamza\n",
            "Syed Hamza\n"
          ]
        }
      ]
    },
    {
      "cell_type": "markdown",
      "source": [
        "2. Create a variable messy_text = \" Python programming is fun! \" and write code to:\n",
        "\n",
        "* Trim the extra spaces from both ends\n",
        "* Replace the word \"fun\" with \"amazing\"\n",
        "* Count the occurrences of the letter 'i' in the text"
      ],
      "metadata": {
        "id": "3kTE-wTgjmKx"
      }
    },
    {
      "cell_type": "code",
      "source": [
        "messy_text = \" Python programming is fun! \"\n",
        "clean_text = messy_text.strip()\n",
        "new_text = clean_text.replace(\"fun\", \"amazing\")\n",
        "i_count = clean_text.count('i')\n",
        "\n",
        "print(clean_text)\n",
        "print(new_text)\n",
        "print(i_count)\n"
      ],
      "metadata": {
        "id": "lOtMwt6JkwfN",
        "outputId": "e0ac8b45-9c08-4116-bfe0-c2eb4e3a72f6",
        "colab": {
          "base_uri": "https://localhost:8080/"
        }
      },
      "execution_count": null,
      "outputs": [
        {
          "output_type": "stream",
          "name": "stdout",
          "text": [
            "Python programming is fun!\n",
            "Python programming is amazing!\n",
            "2\n"
          ]
        }
      ]
    },
    {
      "cell_type": "markdown",
      "source": [
        "3. Create a variable sentence = \"A fast black cat runs across the quiet street\" and write code to:\n",
        "\n",
        "* Break this sentence into a list of words\n",
        "* Combine the words back using hyphens (-) between them\n",
        "* Check if the sentence begins with \"A\"\n",
        "* Find the index of the word \"cat\""
      ],
      "metadata": {
        "id": "I3XICiDZlKnN"
      }
    },
    {
      "cell_type": "code",
      "source": [
        "sentence = \"The quick brown fox jumps over the lazy dog\"\n",
        "words_list = sentence.split()\n",
        "joined_sentence = \"-\".join(words_list)\n",
        "starts_with = sentence.startswith(\"The\")\n",
        "fox_position = sentence.find(\"fox\")\n",
        "\n",
        "print(words_list)\n",
        "print(joined_sentence)\n",
        "print(starts_with)\n",
        "print(fox_position)\n"
      ],
      "metadata": {
        "id": "uM1Sj_holruq",
        "outputId": "0558c5ec-bc17-41f1-dfa1-21c4887368cb",
        "colab": {
          "base_uri": "https://localhost:8080/"
        }
      },
      "execution_count": null,
      "outputs": [
        {
          "output_type": "stream",
          "name": "stdout",
          "text": [
            "['The', 'quick', 'brown', 'fox', 'jumps', 'over', 'the', 'lazy', 'dog']\n",
            "The-quick-brown-fox-jumps-over-the-lazy-dog\n",
            "True\n",
            "16\n"
          ]
        }
      ]
    },
    {
      "cell_type": "markdown",
      "source": [
        "Part 3: F-Strings"
      ],
      "metadata": {
        "id": "ygJQy5R7mPGt"
      }
    },
    {
      "cell_type": "markdown",
      "source": [
        "\n",
        "1. Create variables for:\n",
        "\n",
        "* Your full name\n",
        "* Your current age\n",
        "* The programming language you love the most\n",
        "\n",
        " * Then use f-strings to generate these sentences:\n",
        "\n",
        "* \"Hi, I'm {your_name} and I'm {your_age} years old.\"\n",
        "* \"My favorite programming language is {language}, I love coding in it!\"\n",
        "* \"After 5 years, I’ll be {age + 5} years old.\""
      ],
      "metadata": {
        "id": "Y-7FiYWUmQBg"
      }
    },
    {
      "cell_type": "code",
      "source": [
        "my_name = \"Syed Hamza\"\n",
        "my_age = 16\n",
        "fav_language = \"Python\"\n",
        "\n",
        "print(f\"My name is {my_name} and I am {my_age} years old.\")\n",
        "print(f\"I enjoy programming in {fav_language}, it's my favorite!\")\n",
        "print(f\"In 5 years, I will be {my_age + 5} years old.\")\n"
      ],
      "metadata": {
        "id": "X2xIc2xunZwz",
        "outputId": "0b2deb76-4f25-4d41-eb15-6da99eccffc4",
        "colab": {
          "base_uri": "https://localhost:8080/"
        }
      },
      "execution_count": null,
      "outputs": [
        {
          "output_type": "stream",
          "name": "stdout",
          "text": [
            "My name is Syed Hamza and I am 16 years old.\n",
            "I enjoy programming in Python, it's my favorite!\n",
            "In 5 years, I will be 21 years old.\n"
          ]
        }
      ]
    },
    {
      "cell_type": "markdown",
      "source": [
        "Part 4: Using String Methods with F-Strings"
      ],
      "metadata": {
        "id": "dXyK1JKbn3Td"
      }
    },
    {
      "cell_type": "markdown",
      "source": [
        "1. Write a program that:\n",
        "\n",
        "* Takes user input for their first name, last name, and birth year\n",
        "* Formats the name correctly using string methods (capitalization)\n",
        "* Uses f-strings to generate a profile summary:\n",
        "\n",
        "  \"User Profile: {First Last}, Age: {calculated age}, Username: {first letter of first name + last name + birth year}\"\n",
        "\n",
        "\n",
        "\n"
      ],
      "metadata": {
        "id": "9LnFwcfhoU1J"
      }
    },
    {
      "cell_type": "code",
      "source": [
        "first_name = input(\"Enter your first name: \").strip().capitalize()\n",
        "last_name = input(\"Enter your last name: \").strip().capitalize()\n",
        "birth_year = input(\"Enter your birth year: \").strip()\n",
        "current_year = 2025\n",
        "age = current_year - int(birth_year)\n",
        "username = f\"{first_name[0].lower()}{last_name.lower()}{birth_year}\"\n",
        "print(f\"\\nProfile: {first_name} {last_name}, Age: {age}, Username: {username}\")"
      ],
      "metadata": {
        "id": "6zMyqlFzo-if",
        "outputId": "f5395497-53a6-4ec5-e5c2-1deab698a752",
        "colab": {
          "base_uri": "https://localhost:8080/"
        }
      },
      "execution_count": null,
      "outputs": [
        {
          "output_type": "stream",
          "name": "stdout",
          "text": [
            "Enter your first name: Syed\n",
            "Enter your last name: Hamza\n",
            "Enter your birth year: 2008\n",
            "\n",
            "Profile: Syed Hamza, Age: 17, Username: shamza2008\n"
          ]
        }
      ]
    }
  ],
  "metadata": {
    "colab": {
      "provenance": [],
      "include_colab_link": true
    },
    "kernelspec": {
      "display_name": "Python 3",
      "name": "python3"
    }
  },
  "nbformat": 4,
  "nbformat_minor": 0
}