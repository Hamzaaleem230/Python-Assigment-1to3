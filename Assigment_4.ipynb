{
  "nbformat": 4,
  "nbformat_minor": 0,
  "metadata": {
    "colab": {
      "provenance": [],
      "authorship_tag": "ABX9TyPadq42bjdWl4WAUMPqETag",
      "include_colab_link": true
    },
    "kernelspec": {
      "name": "python3",
      "display_name": "Python 3"
    },
    "language_info": {
      "name": "python"
    }
  },
  "cells": [
    {
      "cell_type": "markdown",
      "metadata": {
        "id": "view-in-github",
        "colab_type": "text"
      },
      "source": [
        "<a href=\"https://colab.research.google.com/github/Hamzaaleem230/Python-Assigment-1to4/blob/main/Assigment_4.ipynb\" target=\"_parent\"><img src=\"https://colab.research.google.com/assets/colab-badge.svg\" alt=\"Open In Colab\"/></a>"
      ]
    },
    {
      "cell_type": "markdown",
      "source": [
        "**Assignment 04**"
      ],
      "metadata": {
        "id": "fECCV9lWrAlq"
      }
    },
    {
      "cell_type": "markdown",
      "source": [
        "\n",
        "\n",
        "---\n",
        "\n",
        "\n",
        "\n",
        "# *List Methods Pracrise*\n",
        "\n",
        "\n",
        "---\n",
        "\n"
      ],
      "metadata": {
        "id": "2EarMBHBrWfc"
      }
    },
    {
      "cell_type": "markdown",
      "source": [
        "Tasks:\n",
        "\n",
        "1. Create and Modify Lists\n",
        "\n",
        "* Create a list called fruits with the items: \"apple\", \"banana\", \"orange\"\n",
        "* Add \"grape\" to the end of the list using an appropriate\n",
        "method\n",
        "\n",
        "* Insert \"mango\" at position 2 in the list\n",
        "* Remove \"banana\" from the list\n",
        "\n",
        "* Print the final list"
      ],
      "metadata": {
        "id": "2iiX8thprjMZ"
      }
    },
    {
      "cell_type": "code",
      "source": [
        "# Task 1: Create a modify list\n",
        "\n",
        "fruits = [\"apple\", \"banana\", \"orange\"]\n",
        "fruits.append(\"grape\")\n",
        "fruits.insert(2, \"mango\")\n",
        "fruits.remove(\"banana\")\n",
        "print(\"Final fruits list: \", fruits)"
      ],
      "metadata": {
        "colab": {
          "base_uri": "https://localhost:8080/"
        },
        "id": "6mATwqnysMCe",
        "outputId": "12d371f9-ba9d-42ad-f0a1-b27a2586aedc"
      },
      "execution_count": null,
      "outputs": [
        {
          "output_type": "stream",
          "name": "stdout",
          "text": [
            "Final fruits list:  ['apple', 'mango', 'orange', 'grape']\n"
          ]
        }
      ]
    },
    {
      "cell_type": "markdown",
      "source": [
        "2. List Operations\n",
        "\n",
        "\n",
        "* Create a list numbers with values: 10, 20, 30, 40, 50\n",
        "* Create a second list more_numbers with values: 60, 70, 80\n",
        "\n",
        "* Combine both lists into a new list called all_numbers\n",
        "* Make a copy of all_numbers called numbers_copy\n",
        "\n",
        "* Reverse the order of numbers_copy\n",
        "* Print both all_numbers and numbers_copy\n",
        "\n",
        "\n",
        "\n",
        "\n",
        "\n"
      ],
      "metadata": {
        "id": "A2j18M47tyre"
      }
    },
    {
      "cell_type": "code",
      "source": [
        "# Task 2: List operations\n",
        "\n",
        "numbers = [10, 20, 30, 40, 50]\n",
        "more_numbers = [60, 70, 80]\n",
        "all_numbers = numbers + more_numbers\n",
        "numbers_copy = all_numbers.copy()\n",
        "numbers_copy.reverse()\n",
        "print(\"All Numbers: \", all_numbers)\n",
        "print(\"Reversed Number: \", numbers_copy)"
      ],
      "metadata": {
        "colab": {
          "base_uri": "https://localhost:8080/"
        },
        "id": "CvDfcrDMuYVv",
        "outputId": "d7065ad6-df6f-4f2c-c937-848d7ccea4ca"
      },
      "execution_count": null,
      "outputs": [
        {
          "output_type": "stream",
          "name": "stdout",
          "text": [
            "Ascending order:  [10, 20, 30, 40, 50, 60, 70, 80]\n",
            "Descending order:  [80, 70, 60, 50, 40, 30, 20, 10]\n"
          ]
        }
      ]
    },
    {
      "cell_type": "markdown",
      "source": [
        "3. Sorting and Counting\n",
        "\n",
        "\n",
        "* Create a list scores with these values: 85, 92, 78, 65, 92, 85, 74\n",
        "* Sort the list in ascending order\n",
        "\n",
        "* Sort the list in descending order\n",
        "* Count how many times 92 appears in the list\n",
        "\n",
        "* Find and print the highest and lowest scores\n",
        "* Print the sorted list\n",
        "\n",
        "\n",
        "\n",
        "\n",
        "\n"
      ],
      "metadata": {
        "id": "e-bm3iIGv18U"
      }
    },
    {
      "cell_type": "code",
      "source": [
        "# Task 3: Sorting and Counting\n",
        "\n",
        "scores = [85, 92, 78, 65, 92, 85, 74]\n",
        "ascending_scores = sorted(scores)\n",
        "descending_scores = sorted(scores, reverse=True)\n",
        "count_92 = scores.count(92)\n",
        "highest_score = max(scores)\n",
        "lowest_score = min(scores)\n",
        "print(\"Ascending Scores: \", ascending_scores)\n",
        "print(\"Descending Scores: \", descending_scores)\n",
        "print(\"Count of 92: \", count_92)\n",
        "print(\"Highest Scores: \", highest_score)\n",
        "print(\"Lowest Scores: \", lowest_score)"
      ],
      "metadata": {
        "colab": {
          "base_uri": "https://localhost:8080/"
        },
        "id": "3w4cCnuPwS53",
        "outputId": "d610787f-5e71-4794-f690-fc80fcc092bd"
      },
      "execution_count": null,
      "outputs": [
        {
          "output_type": "stream",
          "name": "stdout",
          "text": [
            "Ascending Scores:  [65, 74, 78, 85, 85, 92, 92]\n",
            "Descending Scores:  [92, 92, 85, 85, 78, 74, 65]\n",
            "Count of 92:  2\n",
            "Highest Scores:  92\n",
            "Lowest Scores:  65\n"
          ]
        }
      ]
    },
    {
      "cell_type": "markdown",
      "source": [
        "4.  List Manipulation\n",
        "\n",
        "* Create a list letters with values: \"a\", \"b\", \"c\", \"d\", \"e\"\n",
        "* Use slicing to create a new list with only the first three letters\n",
        "\n",
        "* Use slicing to create another list with only the last two letters\n",
        "* Find and print the index of \"c\" in the list\n",
        "\n",
        "* Replace \"d\" with \"z\" in the original list\n",
        "* Print the modified list"
      ],
      "metadata": {
        "id": "mb8-c-K6yOi-"
      }
    },
    {
      "cell_type": "code",
      "source": [
        "# Task 4: List Manipulation\n",
        "\n",
        "letters = [\"a\", \"b\", \"c\", \"d\", \"e\"]\n",
        "first_three_letters = letters[:3]\n",
        "last_two_letters = letters[-2:]\n",
        "index_of_c = letters.index(\"c\")\n",
        "letters[3] = \"z\"\n",
        "modified_list = letters\n",
        "print(\"First three letters: \", first_three_letters)\n",
        "print(\"Last two letters: \", last_two_letters)\n",
        "print(\"Index of c: \", index_of_c)\n",
        "print(\"Modified list: \", modified_list)"
      ],
      "metadata": {
        "colab": {
          "base_uri": "https://localhost:8080/"
        },
        "id": "-Y9B-h4rzBNP",
        "outputId": "58ab96a5-1ca4-4aa5-f578-332d031b6cd5"
      },
      "execution_count": null,
      "outputs": [
        {
          "output_type": "stream",
          "name": "stdout",
          "text": [
            "First three letters:  ['a', 'b', 'c']\n",
            "Last two letters:  ['d', 'e']\n",
            "Index of c:  2\n",
            "Modified list:  ['a', 'b', 'c', 'z', 'e']\n"
          ]
        }
      ]
    },
    {
      "cell_type": "markdown",
      "source": [
        "\n",
        "\n",
        "---\n",
        "\n",
        "# *Dictionary Methods Practice*\n",
        "\n",
        "\n",
        "---\n",
        "\n"
      ],
      "metadata": {
        "id": "6sKZJV4x1rT5"
      }
    },
    {
      "cell_type": "markdown",
      "source": [
        "Tasks:\n",
        "\n",
        "1. Create and Access Dictionaries\n",
        "\n",
        "* Create a dictionary called student with these key-value pairs:\n",
        "       \"name\": \"John\"\n",
        "       \"age\": 20\n",
        "       \"grade\": \"A\"\n",
        "       \"courses\": [\"Math\", \"Science\", \"History\"]\n",
        "\n",
        "* Print the student's name\n",
        "\n",
        "\n",
        "* Print the list of courses\n",
        "* Add a new key-value pair: \"email\": \"john@example.com\"\n",
        "\n",
        "\n",
        "* Print the entire dictionary"
      ],
      "metadata": {
        "id": "ksg2wGS12YmK"
      }
    },
    {
      "cell_type": "code",
      "source": [
        "# Task 1: Create and Access Dictionaries\n",
        "\n",
        "student = {\n",
        "    \"name\": \"Hamza\",\n",
        "    \"age\": 20,\n",
        "    \"grade\": \"A\",\n",
        "    \"courses\": [\"Math\", \"Science\", \"History\"]\n",
        "}\n",
        "print(\"Student Name: \", student[\"name\"])\n",
        "print(\"Courses: \", student[\"courses\"])\n",
        "student[\"email\"] = \"abcd1234@gamil.com\"\n",
        "print(\"Updated Dictionary: \", student)"
      ],
      "metadata": {
        "colab": {
          "base_uri": "https://localhost:8080/"
        },
        "id": "ZU1y4sVp23cf",
        "outputId": "0647162c-7c68-498c-9e44-410df3bac4ad"
      },
      "execution_count": null,
      "outputs": [
        {
          "output_type": "stream",
          "name": "stdout",
          "text": [
            "Student Name:  Hamza\n",
            "Courses:  ['Math', 'Science', 'History']\n",
            "Updated Dictionary:  {'name': 'Hamza', 'age': 20, 'grade': 'A', 'courses': ['Math', 'Science', 'History'], 'email': 'abcd1234@gamil.com'}\n"
          ]
        }
      ]
    },
    {
      "cell_type": "markdown",
      "source": [
        "2. Modify Dictionary Values\n",
        "\n",
        "\n",
        "* Change the student's age to 21\n",
        "* Add a new course \"Computer Science\" to the courses list\n",
        "\n",
        "\n",
        "* Update the grade to \"A+\"\n",
        "* Print the modified dictionary\n",
        "\n",
        "\n",
        "\n"
      ],
      "metadata": {
        "id": "cyXKs5Ne5oKk"
      }
    },
    {
      "cell_type": "code",
      "source": [
        "# Existing student dictionary from task 1\n",
        "\n",
        "student = {\n",
        "    \"name\": \"Hamza\",\n",
        "    \"age\": 20,\n",
        "    \"grade\": \"A\",\n",
        "    \"courses\": [\"Math\", \"Science\", \"History\"]\n",
        "}\n",
        "\n",
        "print(\"Student Name: \", student[\"name\"])\n",
        "print(\"Courses: \", student[\"courses\"])\n",
        "student[\"email\"] = \"abcd1234@gamil.com\"\n",
        "print(\"Updated Dictionary: \", student)\n",
        "\n",
        "# Task 2: Modify Dictionary Values\n",
        "\n",
        "student[\"age\"] = \"21\"\n",
        "student[\"courses\"].append(\"Computer Science\")\n",
        "student[\"grade\"] = \"A+\"\n",
        "modified_dictionary = student\n",
        "print(\"Modified Dictionary: \", modified_dictionary )"
      ],
      "metadata": {
        "colab": {
          "base_uri": "https://localhost:8080/"
        },
        "id": "VR4ue7jl6NZh",
        "outputId": "08d1fe95-2c8a-4787-a311-07b9eeaf239f"
      },
      "execution_count": null,
      "outputs": [
        {
          "output_type": "stream",
          "name": "stdout",
          "text": [
            "Student Name:  Hamza\n",
            "Courses:  ['Math', 'Science', 'History']\n",
            "Updated Dictionary:  {'name': 'Hamza', 'age': 20, 'grade': 'A', 'courses': ['Math', 'Science', 'History'], 'email': 'abcd1234@gamil.com'}\n",
            "Modified Dictionary:  {'name': 'Hamza', 'age': '21', 'grade': 'A+', 'courses': ['Math', 'Science', 'History', 'Computer Science'], 'email': 'abcd1234@gamil.com'}\n"
          ]
        }
      ]
    },
    {
      "cell_type": "markdown",
      "source": [
        "3. Dictionary Operations\n",
        "\n",
        "\n",
        "* Create a second dictionary student_address with these key-value pairs:\n",
        "        \"street\": \"123 College Ave\"\n",
        "        \"city\": \"New York\"\n",
        "        \"zip\": \"10001\"\n",
        "        \n",
        "\n",
        "* Combine both dictionaries into a new dictionary called student_info\n",
        "* Remove the \"zip\" key from student_info\n",
        "\n",
        "* Check if \"phone\" exists in the dictionary\n",
        "* Print the final dictionary"
      ],
      "metadata": {
        "id": "HiFoV9It67vA"
      }
    },
    {
      "cell_type": "code",
      "source": [
        "# Existing student dictionary from task 2\n",
        "\n",
        "student= {\n",
        "    \"name\": \"Hamza\",\n",
        "    \"age\": \"21\",\n",
        "    \"grade\": \"A+\",\n",
        "    \"courses\": [\"Math\", \"Science\", \"History\", \"Computer Science\"],\n",
        "    \"email\": \"abcd1234@gamil.com\"\n",
        "}\n",
        "\n",
        "# Task 3: Dictionary Operations\n",
        "\n",
        "student_address = {\n",
        "    \"street\": \"123 Street\",\n",
        "    \"city\": \"Karachi\",\n",
        "    \"zip\": \"10020\"\n",
        "}\n",
        "\n",
        "student_info = {**student, ** student_address}\n",
        "student_info.pop(\"zip\", None)\n",
        "phone_exists = \"phone\" in student_info\n",
        "print(\"Student Information: \", student_info)\n",
        "print(\"Does 'phone' exist in inforamation?: \", phone_exists)"
      ],
      "metadata": {
        "colab": {
          "base_uri": "https://localhost:8080/"
        },
        "id": "HV18hYof7mlT",
        "outputId": "aaa59420-2511-4045-e8b9-d15baf546b18"
      },
      "execution_count": null,
      "outputs": [
        {
          "output_type": "stream",
          "name": "stdout",
          "text": [
            "Student Information:  {'name': 'Hamza', 'age': '21', 'grade': 'A+', 'courses': ['Math', 'Science', 'History', 'Computer Science'], 'email': 'abcd1234@gamil.com', 'street': '123 Street', 'city': 'Karachi'}\n",
            "Does 'phone' exist in inforamation?:  False\n"
          ]
        }
      ]
    },
    {
      "cell_type": "markdown",
      "source": [
        "4. Dictionary Methods  \n",
        "\n",
        "\n",
        "* Create a dictionary word_count with these key-value pairs:\n",
        "         \"hello\": 5\n",
        "         \"world\": 10\n",
        "         \"python\": 15\n",
        "\n",
        "\n",
        "* Get all keys and print them as a list\n",
        "* Get all values and print them as a list\n",
        "\n",
        "\n",
        "* Get all key-value pairs and print them\n",
        "* Make a copy of the dictionary\n",
        "\n",
        "\n",
        "* Clear the original dictionary\n",
        "* Print both dictionaries to verify one is empty and one is a copy"
      ],
      "metadata": {
        "id": "ITYYRrVY-2q6"
      }
    },
    {
      "cell_type": "code",
      "source": [
        "# Task 4: Dictionary Methods\n",
        "\n",
        "word_count = {\n",
        "    \"hello\": 5,\n",
        "    \"world\": 10,\n",
        "    \"python\": 15\n",
        "}\n",
        "\n",
        "keys = list(word_count.keys())\n",
        "print(\"Keys: \", keys)\n",
        "values = list(word_count.values())\n",
        "print(\"Values: \", values)\n",
        "items = list(word_count.items())\n",
        "print(\"Key-value pairs: \", items)\n",
        "word_count_copy = word_count.copy()\n",
        "word_count.clear()\n",
        "print(\"Orignal dictionary after clear: \", word_count)\n",
        "print(\"Copied dictionary remains unchanged: \", word_count_copy)"
      ],
      "metadata": {
        "colab": {
          "base_uri": "https://localhost:8080/"
        },
        "id": "_03wTAqN_hOz",
        "outputId": "f2d9e53a-d292-4421-cf08-3d80012400c4"
      },
      "execution_count": null,
      "outputs": [
        {
          "output_type": "stream",
          "name": "stdout",
          "text": [
            "Keys:  ['hello', 'world', 'python']\n",
            "Values:  [5, 10, 15]\n",
            "Key-value pairs:  [('hello', 5), ('world', 10), ('python', 15)]\n",
            "Orignal dictionary after clear:  {}\n",
            "Copied dictionary remains unchanged:  {'hello': 5, 'world': 10, 'python': 15}\n"
          ]
        }
      ]
    },
    {
      "cell_type": "markdown",
      "source": [
        "\n",
        "\n",
        "---\n",
        "# *Shopping Discount Calculator*\n",
        "\n",
        "\n",
        "\n",
        "---\n",
        "\n"
      ],
      "metadata": {
        "id": "A6gHmYVvClvO"
      }
    },
    {
      "cell_type": "markdown",
      "source": [
        "Tasks:\n",
        "\n",
        "1. Set up the initial variables:\n",
        "\n",
        "\n",
        "* purchase_amount: The total cost of items in the shopping cart\n",
        "* is_loyalty_member: Boolean (True/False) indicating if the customer is a\n",
        "loyalty member\n",
        "\n",
        "\n",
        "* day_of_week: A string with the current day (e.g., \"Monday\", \"Tuesday\", etc.)\n",
        "* is_holiday_season: Boolean indicating if it's currently a holiday shopping\n",
        "season"
      ],
      "metadata": {
        "id": "EnzpcWT7C0k5"
      }
    },
    {
      "cell_type": "code",
      "source": [
        "# Task 1: Set up the initial variables\n",
        "\n",
        "purchase_amount = 100\n",
        "is_loyalty_member = True\n",
        "day_of_week = \"Monday\"\n",
        "is_holiday_season = False\n",
        "\n",
        "print(\"Purchase Amount: \", purchase_amount)\n",
        "print(\"Is Loyalty Member: \", is_loyalty_member)\n",
        "print(\"Day of week: \", day_of_week)\n",
        "print(\"Is Holiday Season: \", is_holiday_season)"
      ],
      "metadata": {
        "colab": {
          "base_uri": "https://localhost:8080/"
        },
        "id": "Rwn7fJpuDUgy",
        "outputId": "b987a17b-02ec-4801-a1eb-0e136e767728"
      },
      "execution_count": null,
      "outputs": [
        {
          "output_type": "stream",
          "name": "stdout",
          "text": [
            "Purchase Amount:  100\n",
            "Is Loyalty Member:  True\n",
            "Day of week:  Monday\n",
            "Is Holiday Season:  False\n"
          ]
        }
      ]
    },
    {
      "cell_type": "markdown",
      "source": [
        "2. Apply discount rules using if statements:\n",
        "\n",
        "\n",
        "* If purchase amount is greater than $100, apply a 10% discount\n",
        "* If purchase amount is greater than $50 (but less than or equal to $100),\n",
        "apply a 5% discount\n",
        "\n",
        "* If the customer is a loyalty member, apply an additional 5% discount\n",
        "* If it's a weekend (Saturday or Sunday), apply an additional 2% discount\n",
        "\n",
        "* If it's a holiday season, apply an additional 8% discount"
      ],
      "metadata": {
        "id": "RE9ABBuLEcZ-"
      }
    },
    {
      "cell_type": "code",
      "source": [
        "# Data\n",
        "purchase_amount = 120\n",
        "is_loyalty_member = True\n",
        "day_of_week = \"Saturday\"\n",
        "is_holiday_season = True\n",
        "original_amount = purchase_amount\n",
        "total_discount = 0.0\n",
        "\n",
        "# Task 2: Apply discount rules using if statements\n",
        "if purchase_amount > 100:\n",
        "    discount = purchase_amount * 0.10\n",
        "    print(\"10% discount for purchase over $100 apply kiya gaya: $\", round(discount, 2))\n",
        "    total_discount += discount\n",
        "elif purchase_amount > 50:\n",
        "    discount = purchase_amount * 0.05\n",
        "    print(\"5% discount apply kiya gaya: $\", round(discount, 2))\n",
        "    total_discount += discount\n",
        "\n",
        "if is_loyalty_member:\n",
        "    loyalty_discount = purchase_amount * 0.05\n",
        "    print(\"5% loyalty member discount apply kiya gaya: $\", round(loyalty_discount, 2))\n",
        "    total_discount += loyalty_discount\n",
        "\n",
        "if day_of_week == \"Saturday\" or day_of_week == \"Sunday\":\n",
        "    weekend_discount = purchase_amount * 0.02\n",
        "    print(\"2% weekend discount apply kiya gaya: $\", round(weekend_discount, 2))\n",
        "    total_discount += weekend_discount\n",
        "\n",
        "if is_holiday_season:\n",
        "    holiday_discount = purchase_amount * 0.08\n",
        "    print(\"8% holiday season discount apply kiya gaya: $\", round(holiday_discount, 2))\n",
        "    total_discount += holiday_discount\n",
        "\n",
        "# Final price\n",
        "final_price = purchase_amount - total_discount\n",
        "\n",
        "# Output\n",
        "print(\"\\nOriginal Purchase Amount: $\", round(original_amount, 2))\n",
        "print(\"Total Discounts Apply hue: $\", round(total_discount, 2))\n",
        "print(\"Final Price Discounts ke baad: $\", round(final_price, 2))\n"
      ],
      "metadata": {
        "colab": {
          "base_uri": "https://localhost:8080/"
        },
        "id": "bnZftB2xE-eb",
        "outputId": "c0593160-6765-4fc3-a5be-50b33ee8a9d0"
      },
      "execution_count": null,
      "outputs": [
        {
          "output_type": "stream",
          "name": "stdout",
          "text": [
            "10% discount for purchase over $100 apply kiya gaya: $ 12.0\n",
            "5% loyalty member discount apply kiya gaya: $ 6.0\n",
            "2% weekend discount apply kiya gaya: $ 2.4\n",
            "8% holiday season discount apply kiya gaya: $ 9.6\n",
            "\n",
            "Original Purchase Amount: $ 120\n",
            "Total Discounts Apply hue: $ 30.0\n",
            "Final Price Discounts ke baad: $ 90.0\n"
          ]
        }
      ]
    },
    {
      "cell_type": "markdown",
      "source": [
        "3. Calculate and display:\n",
        "\n",
        "* The original purchase amount\n",
        "\n",
        "* Each discount that was applied and its amount\n",
        "\n",
        "* The final price after all discounts"
      ],
      "metadata": {
        "id": "mKQnjynze08H"
      }
    },
    {
      "cell_type": "code",
      "source": [
        "# Task 3: Calculate and display\n",
        "original_price = float(input(\"Enter the original purchase amount: \"))\n",
        "\n",
        "# Step 2: Define Discounts (in percentages)\n",
        "discounts = [10, 5]  # You can add more discounts here\n",
        "\n",
        "# Step 3: Apply Discounts One by One\n",
        "price_after_discounts = original_price\n",
        "print(f\"\\nOriginal Price: ${original_price:.2f}\")\n",
        "\n",
        "for i, discount in enumerate(discounts, start=1):\n",
        "    discount_amount = price_after_discounts * (discount / 100)\n",
        "    price_after_discounts -= discount_amount\n",
        "    print(f\"Discount {i}: {discount}% = ${discount_amount:.2f}\")\n",
        "\n",
        "# Step 4: Final Price\n",
        "print(f\"\\nFinal Price after all discounts: ${price_after_discounts:.2f}\")\n"
      ],
      "metadata": {
        "colab": {
          "base_uri": "https://localhost:8080/"
        },
        "id": "sWYmbaYRfVL6",
        "outputId": "fe3394b9-021c-407d-dcca-e420c6a67c33"
      },
      "execution_count": null,
      "outputs": [
        {
          "output_type": "stream",
          "name": "stdout",
          "text": [
            "Enter the original purchase amount: 100\n",
            "\n",
            "Original Price: $100.00\n",
            "Discount 1: 10% = $10.00\n",
            "Discount 2: 5% = $4.50\n",
            "\n",
            "Final Price after all discounts: $85.50\n"
          ]
        }
      ]
    },
    {
      "cell_type": "markdown",
      "source": [
        "\n",
        "\n",
        "---\n",
        "\n",
        "# *For Loop Assignment - Number Patterns*\n",
        "\n",
        "\n",
        "---\n",
        "\n"
      ],
      "metadata": {
        "id": "0xlBbIJFf86Z"
      }
    },
    {
      "cell_type": "markdown",
      "source": [
        "\n",
        "Pattern 1: Counting Numbers\n",
        "\n",
        "* Print numbers from 1 to 10 on a single line."
      ],
      "metadata": {
        "id": "Fyedd4fRgHvU"
      }
    },
    {
      "cell_type": "code",
      "source": [
        "# Pattern 1: Counting Numbers\n",
        "for i in range(1, 11):\n",
        "    print(i, end=\" \")"
      ],
      "metadata": {
        "colab": {
          "base_uri": "https://localhost:8080/"
        },
        "id": "j8iEgR-He4D_",
        "outputId": "4bc3b3cf-b73a-4de5-c800-78560188b0f4"
      },
      "execution_count": null,
      "outputs": [
        {
          "output_type": "stream",
          "name": "stdout",
          "text": [
            "1 2 3 4 5 6 7 8 9 10 "
          ]
        }
      ]
    },
    {
      "cell_type": "markdown",
      "source": [
        "Pattern 2: Multiplication Table\n",
        "\n",
        "* Create a multiplication table for the number 5 (from 1 to 10)."
      ],
      "metadata": {
        "id": "ve0PX8AOfYdU"
      }
    },
    {
      "cell_type": "code",
      "source": [
        "# Pattern 2: Multiplication Table\n",
        "print(\"Table of 5: \")\n",
        "for i in range(1, 11):\n",
        "  print(f\"5 x {i} = {5 * i}\")"
      ],
      "metadata": {
        "colab": {
          "base_uri": "https://localhost:8080/"
        },
        "id": "Us5-eNY2ffrM",
        "outputId": "ca8702ac-0f4e-4304-cf16-f494280b73c8"
      },
      "execution_count": null,
      "outputs": [
        {
          "output_type": "stream",
          "name": "stdout",
          "text": [
            "Table of 5: \n",
            "5 x 1 = 5\n",
            "5 x 2 = 10\n",
            "5 x 3 = 15\n",
            "5 x 4 = 20\n",
            "5 x 5 = 25\n",
            "5 x 6 = 30\n",
            "5 x 7 = 35\n",
            "5 x 8 = 40\n",
            "5 x 9 = 45\n",
            "5 x 10 = 50\n"
          ]
        }
      ]
    },
    {
      "cell_type": "markdown",
      "source": [
        "\n",
        "\n",
        "---\n",
        "\n",
        "# *While Loop Assignment - Interactive Game*\n",
        "\n",
        "\n",
        "---\n",
        "\n"
      ],
      "metadata": {
        "id": "3pIlJPNWgSXY"
      }
    },
    {
      "cell_type": "markdown",
      "source": [
        "Write a Python program that:\n",
        "\n",
        "\n",
        "1. Sets a \"secret number\" (you can choose any number between 1 and 50)\n",
        "2. Asks the player to guess the number\n",
        "\n",
        "3. Tells the player if their guess is too high or too low\n",
        "4.  Keeps asking until the player guesses correctly\n",
        "\n",
        "5. Keeps track of how many guesses it took"
      ],
      "metadata": {
        "id": "ewDV7_YlgmdI"
      }
    },
    {
      "cell_type": "code",
      "source": [
        "# Interactive Game\n",
        "secret_number = 25\n",
        "guess = None\n",
        "guess_count = 0\n",
        "\n",
        "print(\"Welcome to the Secret Number Guessing Game!\")\n",
        "print(\"I have chosen a number between 1 to 50. Try to guess it.\")\n",
        "\n",
        "while guess != secret_number:\n",
        "    guess = int(input(\"Enter your guess: \"))\n",
        "    guess_count += 1\n",
        "\n",
        "    if guess < secret_number:\n",
        "        print(\"Too low! Try again.\")\n",
        "    elif guess > secret_number:\n",
        "        print(\"Too high! Try again.\")\n",
        "    else:\n",
        "        print(f\"Congratulations! You guessed the number {secret_number} in {guess_count} guesses.\")\n"
      ],
      "metadata": {
        "colab": {
          "base_uri": "https://localhost:8080/"
        },
        "id": "FBTLRt_dg73f",
        "outputId": "ee553389-a955-4ee5-9cfa-ea5ea0e180d7"
      },
      "execution_count": null,
      "outputs": [
        {
          "output_type": "stream",
          "name": "stdout",
          "text": [
            "Welcome to the Secret Number Guessing Game!\n",
            "I have chosen a number between 1 to 50. Try to guess it.\n",
            "Enter your guess: 32\n",
            "Too high! Try again.\n",
            "Enter your guess: 10\n",
            "Too low! Try again.\n",
            "Enter your guess: 23\n",
            "Too low! Try again.\n",
            "Enter your guess: 24\n",
            "Too low! Try again.\n",
            "Enter your guess: 25\n",
            "Congratulations! You guessed the number 25 in 5 guesses.\n"
          ]
        }
      ]
    },
    {
      "cell_type": "markdown",
      "source": [
        "\n",
        "\n",
        "---\n",
        "\n",
        "# *Student Grade Management System*\n",
        "\n",
        "\n",
        "---\n",
        "\n"
      ],
      "metadata": {
        "id": "9EIt3datk3CF"
      }
    },
    {
      "cell_type": "markdown",
      "source": [
        "Create a Python program that does the following:\n",
        "\n",
        "\n",
        "1. Create a list to store information about students\n",
        "2. Each student should be represented as a dictionary with the following keys:\n",
        "          o name: The student's full name\n",
        "          o id: A unique student ID number\n",
        "          o grades: Another dictionary containing course names as keys and grades as values\n",
        "\n",
        "\n",
        "3. Your program should:\n",
        "          o Add at least 3 students to the list\n",
        "          o Add grades for at least 3 courses for each student\n",
        "          o Display all students with their grades\n",
        "          o Calculate and display the average grade for each student\n",
        "          o Find and display the student with the highest average grade\n",
        "          o List all students with an average grade above 80\n",
        "          o Calculate and display the average grade for a specific course\n",
        "          o Add a new student to the system\n",
        "\n"
      ],
      "metadata": {
        "id": "evLrjIO1lAL9"
      }
    },
    {
      "cell_type": "code",
      "source": [
        "# Grade Management System\n",
        "\n",
        "# Step 1: Create a list to store student data\n",
        "students = [\n",
        "    {\n",
        "        \"name\": \"Hamza Syed\",\n",
        "        \"id\": 1770,\n",
        "        \"grades\": {\n",
        "            \"English\": 93,\n",
        "            \"Mathematics\": 71,\n",
        "            \"Computer Science\": 75\n",
        "        }\n",
        "    },\n",
        "    {\n",
        "        \"name\": \"Ahmed Raza\",\n",
        "        \"id\": 1880,\n",
        "        \"grades\": {\n",
        "            \"English\": 86,\n",
        "            \"Mathematics\": 69,\n",
        "            \"Computer Science\": 53\n",
        "        }\n",
        "    },\n",
        "    {\n",
        "        \"name\": \"Abdullah\",\n",
        "        \"id\": 1990,\n",
        "        \"grades\": {\n",
        "            \"English\": 67,\n",
        "            \"Mathematics\": 63,\n",
        "            \"Computer Science\": 59\n",
        "        }\n",
        "    },\n",
        "]\n",
        "\n",
        "# Step 2: Display all students with their grades\n",
        "\n",
        "print(\"\\nAll Students and Their Grades:\")\n",
        "for student in students:\n",
        "  print(f\"Name: {student['name']}, ID: {student['id']}, Grades: {student['grades']}\")\n",
        "\n",
        "# Step 3: Calculate and display average grade for each student\n",
        "\n",
        "print(\"\\nAverage Grade for Each Student:\")\n",
        "for student in students:\n",
        "  grades = student[\"grades\"].values()\n",
        "  avg = sum(grades) / len(grades)\n",
        "  print(f\"{student['name']} - Average Grade: {round(avg, 2)}\")\n",
        "\n",
        "# Step 4: Find the student with the highest average grade\n",
        "\n",
        "top_student = None\n",
        "highest_avg = 0\n",
        "for student in students:\n",
        "  grades = student[\"grades\"].values()\n",
        "  avg = sum(grades) / len(grades)\n",
        "  if avg > highest_avg:\n",
        "    highest_avg = avg\n",
        "    top_student = student\n",
        "\n",
        "print(f\"\\nTop Student: {top_student['name']} with Average Grade: {round(highest_avg, 2)}\")\n",
        "\n",
        "# Step 5: List students with average grade above 80\n",
        "\n",
        "print(\"\\nStudents with Average Grade Above 80:\")\n",
        "for student in students:\n",
        "  grades = student[\"grades\"].values()\n",
        "  avg = sum(grades) / len(grades)\n",
        "  if avg > 80:\n",
        "    print(f\"{student['name']} - Average Grade: {round(avg, 2)}\")\n",
        "\n",
        "# Step 6: Show each student's grade for a specific course (e.g., English)\n",
        "\n",
        "course_name = \"English\"\n",
        "print(f\"\\nGrades for Course: {course_name}\")\n",
        "found = False\n",
        "total = 0\n",
        "count = 0\n",
        "for student in students:\n",
        "  if course_name in student[\"grades\"]:\n",
        "    grade = student[\"grades\"][course_name]\n",
        "    print(f\"{student['name']} - {course_name} Grade: {grade}\")\n",
        "    total += grade\n",
        "    count += 1\n",
        "    found = True\n",
        "\n",
        "if found:\n",
        "  course_avg = total / count\n",
        "  print(f\"\\nAverage Grade for {course_name}: {round(course_avg, 2)}\")\n",
        "else:\n",
        "  print(f\"\\nNo data found for course: {course_name}\")\n",
        "\n",
        "# Step 7: Add a new student to the system\n",
        "\n",
        "new_student = {\n",
        "    \"name\": \"Areeb Shaikh\",\n",
        "    \"id\": 1980,\n",
        "    \"grades\": {\n",
        "        \"English\": 54,\n",
        "        \"Mathematics\": 65,\n",
        "        \"Computer Science\": 72\n",
        "    }\n",
        "}\n",
        "students.append(new_student)\n",
        "print(f\"\\nNew student {new_student['name']} added successfully!\")\n",
        "for student in students:\n",
        "  print(f\"Name: {student['name']}, ID: {student['id']}, Grades: {student['grades']}\")\n",
        "\n",
        "# Final display of all student data\n",
        "\n",
        "print(\"\\nUpdated Student List:\")\n",
        "for student in students:\n",
        "  print(f\"Name: {student['name']}, ID: {student['id']}, Grades: {student['grades']}\")\n"
      ],
      "metadata": {
        "colab": {
          "base_uri": "https://localhost:8080/"
        },
        "id": "werBmXS-mkcE",
        "outputId": "0a7f582f-da2f-4fd4-c718-0b8a5a413b6e"
      },
      "execution_count": null,
      "outputs": [
        {
          "output_type": "stream",
          "name": "stdout",
          "text": [
            "\n",
            "All Students and Their Grades:\n",
            "Name: Hamza Syed, ID: 1770, Grades: {'English': 93, 'Mathematics': 71, 'Computer Science': 75}\n",
            "Name: Ahmed Raza, ID: 1880, Grades: {'English': 86, 'Mathematics': 69, 'Computer Science': 53}\n",
            "Name: Abdullah, ID: 1990, Grades: {'English': 67, 'Mathematics': 63, 'Computer Science': 59}\n",
            "\n",
            "Average Grade for Each Student:\n",
            "Hamza Syed - Average Grade: 79.67\n",
            "Ahmed Raza - Average Grade: 69.33\n",
            "Abdullah - Average Grade: 63.0\n",
            "\n",
            "Top Student: Hamza Syed with Average Grade: 79.67\n",
            "\n",
            "Students with Average Grade Above 80:\n",
            "\n",
            "Grades for Course: English\n",
            "Hamza Syed - English Grade: 93\n",
            "Ahmed Raza - English Grade: 86\n",
            "Abdullah - English Grade: 67\n",
            "\n",
            "Average Grade for English: 82.0\n",
            "\n",
            "New student Areeb Shaikh added successfully!\n",
            "Name: Hamza Syed, ID: 1770, Grades: {'English': 93, 'Mathematics': 71, 'Computer Science': 75}\n",
            "Name: Ahmed Raza, ID: 1880, Grades: {'English': 86, 'Mathematics': 69, 'Computer Science': 53}\n",
            "Name: Abdullah, ID: 1990, Grades: {'English': 67, 'Mathematics': 63, 'Computer Science': 59}\n",
            "Name: Areeb Shaikh, ID: 1980, Grades: {'English': 54, 'Mathematics': 65, 'Computer Science': 72}\n",
            "\n",
            "Updated Student List:\n",
            "Name: Hamza Syed, ID: 1770, Grades: {'English': 93, 'Mathematics': 71, 'Computer Science': 75}\n",
            "Name: Ahmed Raza, ID: 1880, Grades: {'English': 86, 'Mathematics': 69, 'Computer Science': 53}\n",
            "Name: Abdullah, ID: 1990, Grades: {'English': 67, 'Mathematics': 63, 'Computer Science': 59}\n",
            "Name: Areeb Shaikh, ID: 1980, Grades: {'English': 54, 'Mathematics': 65, 'Computer Science': 72}\n"
          ]
        }
      ]
    }
  ]
}